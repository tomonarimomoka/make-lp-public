{
 "cells": [
  {
   "cell_type": "code",
   "execution_count": 1,
   "id": "5fbd0506",
   "metadata": {},
   "outputs": [],
   "source": [
    "# app.py\n",
    "from flask import Flask, request, render_template\n",
    "\n",
    "def makePromptForCatchcopy(businessType,target,personasGender,imageColor,detail):\n",
    "    prompt = \"以下の特徴をもつビジネスのキャッチコピーを考えてください。\"\n",
    "    addCondition(prompt,\"業界\",businessType)\n",
    "    prompt = addCondition(prompt,\"ターゲット\",target)\n",
    "    prompt = addCondition(prompt,\"ペルソナの性別\",personasGender)\n",
    "    prompt = addCondition(prompt,\"ペルソナの年齢\",personasGender)\n",
    "    prompt = addCondition(prompt,\"LPのイメージカラー\",imageColor)\n",
    "    prompt = addCondition(prompt,\"\",detail)\n",
    "    \n",
    "    print(\"キャッチコピー用のプロンプトは以下の通り\"+\"\\n\"+prompt)\n",
    "    return prompt\n",
    "\n",
    "\n",
    "def makepromptForLP(referenceUrl,businessType,target,personasGender,imageColor,detail):    \n",
    "    prompt = \"以下の特徴をもつランディングページのHTMLを作成してください。\\n\" + \"その際、以下のようなページを参照してください。\" + referenceUrl\n",
    "    addCondition(prompt,\"業界\",businessType)\n",
    "    prompt = addCondition(prompt,\"ターゲット\",target)\n",
    "    prompt = addCondition(prompt,\"ペルソナの性別\",personasGender)\n",
    "    prompt = addCondition(prompt,\"ペルソナの年齢\",personasGender)\n",
    "    prompt = addCondition(prompt,\"LPのイメージカラー\",imageColor)\n",
    "    #ここでChatGPTにキャッチコピーを考えさせる\n",
    "    #prompt = addCondition(prompt,\"キャッチコピー\",makepromptForCatchcopy(businessType,target,personasGender,imageColor,detail))\n",
    "    prompt = addCondition(prompt,\"キャッチコピー\",\"世界一の安さ！月末に食べに来て！\")\n",
    "    prompt = addCondition(prompt,\"\",detail)\n",
    "    \n",
    "    print(\"LP用のプロンプトは以下の通り\"+\"\\n\"+prompt)\n",
    "    \n",
    "    return prompt\n",
    "\n",
    "\n",
    "def addCondition(prompt,conditonType,condition):\n",
    "    if(len(condition) != 0):\n",
    "        prompt += \"\\n\" + \"・\"\n",
    "        if (len(conditonType) != 0):\n",
    "            prompt += str(conditonType) + \"は\" + str(condition)\n",
    "        else:\n",
    "            prompt += condition    \n",
    "    return prompt"
   ]
  },
  {
   "cell_type": "code",
   "execution_count": 54,
   "id": "d9ca5736",
   "metadata": {},
   "outputs": [
    {
     "name": "stdout",
     "output_type": "stream",
     "text": [
      "LP用のプロンプトは以下の通り\n",
      "「一流のコーダー」として、以下の特徴をもつランディングページのHTMLを作成してください。\n",
      "その際、以下のようなページを参照してください。https://smaregi.jp/\n",
      "・ターゲットは中小企業\n",
      "・ペルソナの性別は女性\n",
      "・ペルソナの年齢は女性\n",
      "・LPのイメージカラーはピンク色\n",
      "・キャッチコピーは世界一の安さ！月末に食べに来て！\n",
      "・とにかく安いラーメン屋です。\n"
     ]
    },
    {
     "data": {
      "text/plain": [
       "'「一流のコーダー」として、以下の特徴をもつランディングページのHTMLを作成してください。\\nその際、以下のようなページを参照してください。https://smaregi.jp/\\n・ターゲットは中小企業\\n・ペルソナの性別は女性\\n・ペルソナの年齢は女性\\n・LPのイメージカラーはピンク色\\n・キャッチコピーは世界一の安さ！月末に食べに来て！\\n・とにかく安いラーメン屋です。'"
      ]
     },
     "execution_count": 54,
     "metadata": {},
     "output_type": "execute_result"
    }
   ],
   "source": [
    "makepromptForLP(\"飲食系\",\"中小企業\", \"女性\",\"ピンク色\",\"とにかく安いラーメン屋です。\")"
   ]
  },
  {
   "cell_type": "code",
   "execution_count": 44,
   "id": "83127bd4",
   "metadata": {},
   "outputs": [
    {
     "name": "stdout",
     "output_type": "stream",
     "text": [
      "キャッチコピー用のプロンプトは以下の通り\n",
      "「一流のコピーライター」として、以下の特徴をもつビジネスのキャッチコピーを考えてください。\n",
      "・ターゲットは中小企業\n",
      "・ペルソナの性別は20代\n",
      "・ペルソナの年齢は20代\n",
      "・とにかく安いラーメン屋です。\n"
     ]
    },
    {
     "data": {
      "text/plain": [
       "'「一流のコピーライター」として、以下の特徴をもつビジネスのキャッチコピーを考えてください。\\n・ターゲットは中小企業\\n・ペルソナの性別は20代\\n・ペルソナの年齢は20代\\n・とにかく安いラーメン屋です。'"
      ]
     },
     "execution_count": 44,
     "metadata": {},
     "output_type": "execute_result"
    }
   ],
   "source": [
    "makePronptForCatchcopy(\"飲食系\",\"中小企業\", \"20代\",\"\",\"とにかく安いラーメン屋です。\")"
   ]
  },
  {
   "cell_type": "code",
   "execution_count": null,
   "id": "370f3221",
   "metadata": {},
   "outputs": [],
   "source": [
    "import tkinter as tk\n",
    "from tkinter import messagebox\n",
    "import tkinter.simpledialog as simpledialog\n",
    "\n",
    "root = tk.Tk()\n",
    "root.withdraw() #小さなウィンドウを表示させない\n",
    "\n",
    "catchcopy=\"キャッチコピー\"\n",
    "flg = messagebox.askyesno('確認', 'キャッチコピーは'+catchcopy+'でよろしいでしょうか？')\n",
    "print(\"flg = \" ,flg )\n",
    "if(not flg):\n",
    "    for i in range(5) :\n",
    "        print(\"i = \" , 1)\n",
    "\n",
    "        if flg == False:            \n",
    "            # メッセージボックス（はい・いいえ） \n",
    "            flg = messagebox.askyesno('確認', 'キャッチコピーは'+catchcopy+'でよろしいでしょうか？')\n",
    "        else:\n",
    "            break\n",
    "\n"
   ]
  },
  {
   "cell_type": "code",
   "execution_count": 1,
   "id": "b1d0f3c0",
   "metadata": {},
   "outputs": [
    {
     "data": {
      "text/plain": [
       "True"
      ]
     },
     "execution_count": 1,
     "metadata": {},
     "output_type": "execute_result"
    }
   ],
   "source": [
    "\n",
    "import sys\n",
    "\n",
    "from tkinter import messagebox\n",
    "\n",
    "catchcopy=\"キャッチコピー\"\n",
    "messagebox.askyesno('確認', 'キャッチコピーは'+catchcopy+'でよろしいでしょうか？')"
   ]
  },
  {
   "cell_type": "code",
   "execution_count": 3,
   "id": "4d6483fa",
   "metadata": {},
   "outputs": [
    {
     "name": "stdout",
     "output_type": "stream",
     "text": [
      "\n"
     ]
    }
   ],
   "source": [
    "import tkinter\n",
    "import tkinter.filedialog as tkFileDialog\n",
    "       \n",
    "root=tkinter.Tk()\n",
    "root.withdraw()\n",
    "messagebox.askyesno('確認', 'キャッチコピーは'+catchcopy+'でよろしいでしょうか？')\n",
    "print(filename)        "
   ]
  },
  {
   "cell_type": "code",
   "execution_count": 1,
   "id": "ba6b8813",
   "metadata": {},
   "outputs": [
    {
     "ename": "NameError",
     "evalue": "name 'flg' is not defined",
     "output_type": "error",
     "traceback": [
      "\u001b[1;31m---------------------------------------------------------------------------\u001b[0m",
      "\u001b[1;31mNameError\u001b[0m                                 Traceback (most recent call last)",
      "\u001b[1;32m~\\AppData\\Local\\Temp/ipykernel_4480/3111118078.py\u001b[0m in \u001b[0;36m<module>\u001b[1;34m\u001b[0m\n\u001b[1;32m----> 1\u001b[1;33m \u001b[1;32mnot\u001b[0m \u001b[0mflg\u001b[0m\u001b[1;33m\u001b[0m\u001b[1;33m\u001b[0m\u001b[0m\n\u001b[0m",
      "\u001b[1;31mNameError\u001b[0m: name 'flg' is not defined"
     ]
    }
   ],
   "source": [
    "not flg"
   ]
  },
  {
   "cell_type": "code",
   "execution_count": 2,
   "id": "119a2845",
   "metadata": {},
   "outputs": [],
   "source": [
    "import tkinter as tk\n",
    "import tkinter.simpledialog as simpledialog"
   ]
  },
  {
   "cell_type": "code",
   "execution_count": 3,
   "id": "89fdb5ab",
   "metadata": {},
   "outputs": [],
   "source": [
    "from tkinter import messagebox"
   ]
  },
  {
   "cell_type": "code",
   "execution_count": 6,
   "id": "5a0abffe",
   "metadata": {},
   "outputs": [
    {
     "name": "stdout",
     "output_type": "stream",
     "text": [
      "flg =  True\n"
     ]
    }
   ],
   "source": [
    "\n",
    "root = tk.Tk()\n",
    "root.withdraw() #小さなウィンドウを表示させない\n",
    "\n",
    "catchcopy=\"キャッチコピー\"\n",
    "flg = messagebox.askyesno('確認', 'キャッチコピーは'+catchcopy+'でよろしいでしょうか？')\n",
    "print(\"flg = \" ,flg )\n",
    "if(not flg):\n",
    "    for i in range(5) :\n",
    "        print(\"i = \" , 1)\n",
    "\n",
    "        if flg == False:            \n",
    "            # メッセージボックス（はい・いいえ） \n",
    "            flg = messagebox.askyesno('確認', 'キャッチコピーは'+catchcopy+'でよろしいでしょうか？')\n",
    "        else:\n",
    "            break"
   ]
  },
  {
   "cell_type": "code",
   "execution_count": 5,
   "id": "099b9214",
   "metadata": {},
   "outputs": [],
   "source": [
    "\n",
    "catchcopy=\"キャッチコピー\"\n",
    "flg = messagebox.askyesno('確認', 'キャッチコピーは'+catchcopy+'でよろしいでしょうか？')"
   ]
  },
  {
   "cell_type": "code",
   "execution_count": null,
   "id": "2384a060",
   "metadata": {},
   "outputs": [],
   "source": []
  }
 ],
 "metadata": {
  "kernelspec": {
   "display_name": "Python 3 (ipykernel)",
   "language": "python",
   "name": "python3"
  },
  "language_info": {
   "codemirror_mode": {
    "name": "ipython",
    "version": 3
   },
   "file_extension": ".py",
   "mimetype": "text/x-python",
   "name": "python",
   "nbconvert_exporter": "python",
   "pygments_lexer": "ipython3",
   "version": "3.9.7"
  }
 },
 "nbformat": 4,
 "nbformat_minor": 5
}
